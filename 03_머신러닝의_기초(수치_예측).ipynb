{
  "nbformat": 4,
  "nbformat_minor": 0,
  "metadata": {
    "colab": {
      "name": "03 머신러닝의 기초(수치 예측).ipynb",
      "provenance": [],
      "collapsed_sections": [],
      "authorship_tag": "ABX9TyOpbqZkZf7DweWVrNezAvIR",
      "include_colab_link": true
    },
    "kernelspec": {
      "name": "python3",
      "display_name": "Python 3"
    },
    "language_info": {
      "name": "python"
    }
  },
  "cells": [
    {
      "cell_type": "markdown",
      "metadata": {
        "id": "view-in-github",
        "colab_type": "text"
      },
      "source": [
        "<a href=\"https://colab.research.google.com/github/sgr1118/Do-it-Deep-Learning/blob/main/03_%EB%A8%B8%EC%8B%A0%EB%9F%AC%EB%8B%9D%EC%9D%98_%EA%B8%B0%EC%B4%88(%EC%88%98%EC%B9%98_%EC%98%88%EC%B8%A1).ipynb\" target=\"_parent\"><img src=\"https://colab.research.google.com/assets/colab-badge.svg\" alt=\"Open In Colab\"/></a>"
      ]
    },
    {
      "cell_type": "markdown",
      "source": [
        "# 3-1.선형 회귀에 대해 알아보고 데이터를 준비합니다."
      ],
      "metadata": {
        "id": "vYhjf_GmjnCd"
      }
    },
    {
      "cell_type": "code",
      "execution_count": null,
      "metadata": {
        "id": "V89eqsc5NAzB"
      },
      "outputs": [],
      "source": [
        " # 데이터 불러오기\n",
        " from sklearn.datasets import load_diabetes\n",
        " diabetes = load_diabetes()"
      ]
    },
    {
      "cell_type": "code",
      "source": [
        "# 데이터 형태 확인\n",
        "print(diabetes.data.shape, diabetes.target.shape)"
      ],
      "metadata": {
        "colab": {
          "base_uri": "https://localhost:8080/"
        },
        "id": "rKs7l5DchCD3",
        "outputId": "b965d06a-82d9-4195-ed62-96e8cfc40ce0"
      },
      "execution_count": null,
      "outputs": [
        {
          "output_type": "stream",
          "name": "stdout",
          "text": [
            "(442, 10) (442,)\n"
          ]
        }
      ]
    },
    {
      "cell_type": "code",
      "source": [
        "# 입력 데이터 자세히 보기\n",
        "diabetes.data[0:3]"
      ],
      "metadata": {
        "colab": {
          "base_uri": "https://localhost:8080/"
        },
        "id": "rS4tZsYXhgHm",
        "outputId": "44b11678-cf33-4e27-a33f-3ce9e2dca02e"
      },
      "execution_count": null,
      "outputs": [
        {
          "output_type": "execute_result",
          "data": {
            "text/plain": [
              "array([[ 0.03807591,  0.05068012,  0.06169621,  0.02187235, -0.0442235 ,\n",
              "        -0.03482076, -0.04340085, -0.00259226,  0.01990842, -0.01764613],\n",
              "       [-0.00188202, -0.04464164, -0.05147406, -0.02632783, -0.00844872,\n",
              "        -0.01916334,  0.07441156, -0.03949338, -0.06832974, -0.09220405],\n",
              "       [ 0.08529891,  0.05068012,  0.04445121, -0.00567061, -0.04559945,\n",
              "        -0.03419447, -0.03235593, -0.00259226,  0.00286377, -0.02593034]])"
            ]
          },
          "metadata": {},
          "execution_count": 5
        }
      ]
    },
    {
      "cell_type": "code",
      "source": [
        "# 타킷 데이터 자세히 보기\n",
        "diabetes.target[:3]"
      ],
      "metadata": {
        "colab": {
          "base_uri": "https://localhost:8080/"
        },
        "id": "aGkh71irhrhT",
        "outputId": "4b8d184b-6b59-4fc9-d2ab-7b432e475077"
      },
      "execution_count": null,
      "outputs": [
        {
          "output_type": "execute_result",
          "data": {
            "text/plain": [
              "array([151.,  75., 141.])"
            ]
          },
          "metadata": {},
          "execution_count": 6
        }
      ]
    },
    {
      "cell_type": "code",
      "source": [
        "# 훈련 데이터 준비하기\n",
        "x = diabetes.data[:,2]\n",
        "y = diabetes.target"
      ],
      "metadata": {
        "id": "oWpJiKj2idqV"
      },
      "execution_count": null,
      "outputs": []
    },
    {
      "cell_type": "markdown",
      "source": [
        "# 3-2. 경사 하강법으로 학습하는 방법을 알아봅니다."
      ],
      "metadata": {
        "id": "vWp_U4zHkQRj"
      }
    },
    {
      "cell_type": "code",
      "source": [
        "# 훈련데이터 맞는 w, b 찾아보기\n",
        "# w, b 초기화하기\n",
        "\n",
        "w = 1.0\n",
        "b = 1.0\n",
        "\n",
        "# 훈련 데이터의 첫 번째 샘플 데이터 y^ 얻기\n",
        "y_hat = x[0]*w+b\n",
        "# print(y_hat) # 1.0616962065186886\n",
        "\n",
        "# 타깃과 예측 데이터 비교하기\n",
        "# print(y[0]) # 151.0\n",
        "\n",
        "# w 값을 조절하여 예측값 바꾸기\n",
        "w_inc = w + 0.1\n",
        "y_hat_inc = x[0] * w_inc + b\n",
        "# print(y_hat_inc) # 1.0678658271705574\n",
        "\n",
        "# w 값 조정한 후 예측값 증가 정도 확인하기\n",
        "w_rate = (y_hat_inc - y_hat) / (w_inc - w)\n",
        "# print(w_rate) # 0.061696206518688734\n",
        "# x[0]의 값과 일치하는 것을 확인 가능"
      ],
      "metadata": {
        "colab": {
          "base_uri": "https://localhost:8080/"
        },
        "id": "95k0xeZhkXJB",
        "outputId": "0bda184d-d11a-4b8b-8d6e-7d1f5f0056a4"
      },
      "execution_count": null,
      "outputs": [
        {
          "output_type": "stream",
          "name": "stdout",
          "text": [
            "0.061696206518688734\n"
          ]
        }
      ]
    },
    {
      "cell_type": "code",
      "source": [
        "# 변화율로 가중치 업데이트 하기\n",
        "w_new = w + w_rate\n",
        "# print(w_new) # 1.0616962065186888\n",
        "\n",
        "# 변화율로 절편 업데이트하기\n",
        "b_inc = b+0.1\n",
        "y_hat_inc = x[0]*w + b_inc\n",
        "# print(y_hat_inc) # 1.1616962065186887\n",
        "\n",
        "b_rate = (y_hat_inc - y_hat) / (b_inc - b)\n",
        "# print(b_rate) # 1.0"
      ],
      "metadata": {
        "colab": {
          "base_uri": "https://localhost:8080/"
        },
        "id": "bYvr9DrmsIc_",
        "outputId": "ebcd2fd5-c468-489a-9116-a1d41a174720"
      },
      "execution_count": null,
      "outputs": [
        {
          "output_type": "stream",
          "name": "stdout",
          "text": [
            "1.0\n"
          ]
        }
      ]
    }
  ]
}